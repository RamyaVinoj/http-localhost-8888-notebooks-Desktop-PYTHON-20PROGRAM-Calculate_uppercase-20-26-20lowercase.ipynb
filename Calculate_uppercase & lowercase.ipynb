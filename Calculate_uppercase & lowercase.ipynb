{
 "cells": [
  {
   "cell_type": "markdown",
   "id": "9fe954cc",
   "metadata": {},
   "source": [
    "# Calculate the Upper and The lower Case"
   ]
  },
  {
   "cell_type": "code",
   "execution_count": null,
   "id": "2c109857",
   "metadata": {},
   "outputs": [],
   "source": []
  },
  {
   "cell_type": "code",
   "execution_count": 12,
   "id": "cb4fda11",
   "metadata": {},
   "outputs": [
    {
     "name": "stdout",
     "output_type": "stream",
     "text": [
      "Enter any string: The quick Brow Fox\n",
      "No of upper case characters:  3\n",
      "No of lower case characters:  12\n"
     ]
    }
   ],
   "source": [
    "def upper_c(a,b):\n",
    "    for ch in a[ : :-1]:\n",
    "        if ch.isupper():\n",
    "            b = b+1\n",
    "    return b\n",
    "def lower_c(a,d):\n",
    "    for ch in a[ : :-1]:\n",
    "        if ch.islower():\n",
    "            d = d+1\n",
    "    return d\n",
    "r=input(\"Enter any string: \")\n",
    "p=0\n",
    "s = r\n",
    "q=0\n",
    "upper=upper_c(r,p)\n",
    "lower=lower_c(s,q)\n",
    "print(\"No of upper case characters: \",upper)\n",
    "print(\"No of lower case characters: \",lower)\n"
   ]
  },
  {
   "cell_type": "code",
   "execution_count": null,
   "id": "7ae441a3",
   "metadata": {},
   "outputs": [],
   "source": []
  }
 ],
 "metadata": {
  "kernelspec": {
   "display_name": "Python 3 (ipykernel)",
   "language": "python",
   "name": "python3"
  },
  "language_info": {
   "codemirror_mode": {
    "name": "ipython",
    "version": 3
   },
   "file_extension": ".py",
   "mimetype": "text/x-python",
   "name": "python",
   "nbconvert_exporter": "python",
   "pygments_lexer": "ipython3",
   "version": "3.10.0"
  }
 },
 "nbformat": 4,
 "nbformat_minor": 5
}
